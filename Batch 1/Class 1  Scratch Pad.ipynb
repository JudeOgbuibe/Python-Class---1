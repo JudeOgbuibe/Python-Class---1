{
 "cells": [
  {
   "cell_type": "code",
   "execution_count": 1,
   "metadata": {},
   "outputs": [
    {
     "name": "stdout",
     "output_type": "stream",
     "text": [
      "Hello, People. Python is Awesome\n"
     ]
    }
   ],
   "source": [
    "print(\"Hello, People. Python is Awesome\")"
   ]
  },
  {
   "cell_type": "code",
   "execution_count": 3,
   "metadata": {},
   "outputs": [
    {
     "name": "stdout",
     "output_type": "stream",
     "text": [
      "What is your name: Jude\n",
      "Your name is Jude\n"
     ]
    }
   ],
   "source": [
    "name = input(\"What is your name: \")\n",
    "print(\"Your name is \" + name)"
   ]
  },
  {
   "cell_type": "code",
   "execution_count": 15,
   "metadata": {},
   "outputs": [],
   "source": [
    "# Boolean\n",
    "isTrue = True\n",
    "isFalse = False\n",
    "\n",
    "# Cast to Boolean boolean"
   ]
  },
  {
   "cell_type": "code",
   "execution_count": 5,
   "metadata": {},
   "outputs": [],
   "source": [
    "myNumber = 1 #Integer\n",
    "\n",
    "#cast to Integer int\n",
    "mySecondNumber = 1.0 #Float\n",
    "\n",
    "#cast to Float float"
   ]
  },
  {
   "cell_type": "code",
   "execution_count": 6,
   "metadata": {},
   "outputs": [],
   "source": [
    "# String\n",
    "myString = \"Python\"\n",
    "mySecondString = 'Python'\n",
    "\n",
    "#cast to String str"
   ]
  },
  {
   "cell_type": "code",
   "execution_count": 12,
   "metadata": {},
   "outputs": [],
   "source": [
    "example = 'Python\"s amazing'"
   ]
  },
  {
   "cell_type": "code",
   "execution_count": 13,
   "metadata": {},
   "outputs": [
    {
     "data": {
      "text/plain": [
       "'Python\"s amazing'"
      ]
     },
     "execution_count": 13,
     "metadata": {},
     "output_type": "execute_result"
    }
   ],
   "source": [
    "# Addition +\n",
    "# Subtraction -\n",
    "# Multiplication *\n",
    "# Integer Division //\n",
    "# Natural Division /\n",
    "# Modulus or remainder %\n"
   ]
  },
  {
   "cell_type": "code",
   "execution_count": 18,
   "metadata": {},
   "outputs": [],
   "source": [
    "var1 = 52\n",
    "var2 = 21"
   ]
  },
  {
   "cell_type": "code",
   "execution_count": 20,
   "metadata": {},
   "outputs": [
    {
     "data": {
      "text/plain": [
       "73"
      ]
     },
     "execution_count": 20,
     "metadata": {},
     "output_type": "execute_result"
    }
   ],
   "source": [
    "# Addition \n",
    "var1 + var2\n"
   ]
  },
  {
   "cell_type": "code",
   "execution_count": 21,
   "metadata": {},
   "outputs": [
    {
     "data": {
      "text/plain": [
       "31"
      ]
     },
     "execution_count": 21,
     "metadata": {},
     "output_type": "execute_result"
    }
   ],
   "source": [
    "#Subtraction\n",
    "var1 - var2"
   ]
  },
  {
   "cell_type": "code",
   "execution_count": 22,
   "metadata": {},
   "outputs": [
    {
     "data": {
      "text/plain": [
       "1092"
      ]
     },
     "execution_count": 22,
     "metadata": {},
     "output_type": "execute_result"
    }
   ],
   "source": [
    "# Multipication\n",
    "var1 * var2"
   ]
  },
  {
   "cell_type": "code",
   "execution_count": 24,
   "metadata": {},
   "outputs": [
    {
     "data": {
      "text/plain": [
       "2"
      ]
     },
     "execution_count": 24,
     "metadata": {},
     "output_type": "execute_result"
    }
   ],
   "source": [
    "# Division - Integer Divison\n",
    "var1//var2"
   ]
  },
  {
   "cell_type": "code",
   "execution_count": 26,
   "metadata": {},
   "outputs": [
    {
     "data": {
      "text/plain": [
       "2.4761904761904763"
      ]
     },
     "execution_count": 26,
     "metadata": {},
     "output_type": "execute_result"
    }
   ],
   "source": [
    "# Natural Division\n",
    "var1/var2"
   ]
  },
  {
   "cell_type": "code",
   "execution_count": 28,
   "metadata": {},
   "outputs": [
    {
     "data": {
      "text/plain": [
       "10"
      ]
     },
     "execution_count": 28,
     "metadata": {},
     "output_type": "execute_result"
    }
   ],
   "source": [
    "# Modulus\n",
    "var1 % var2"
   ]
  },
  {
   "cell_type": "code",
   "execution_count": 41,
   "metadata": {},
   "outputs": [
    {
     "name": "stdout",
     "output_type": "stream",
     "text": [
      "Enter the first Number: 45\n",
      "Enter the second number: 73\n",
      "The sum of the 2 numbers is 118 \n"
     ]
    }
   ],
   "source": [
    "firstNumber = int(input(\"Enter the first Number: \"))\n",
    "secondNumber = int(input(\"Enter the second number: \"))\n",
    "total = firstNumber + secondNumber\n",
    "print(f\"The sum of the 2 numbers is {total} \")\n"
   ]
  },
  {
   "cell_type": "code",
   "execution_count": 40,
   "metadata": {
    "scrolled": true
   },
   "outputs": [
    {
     "name": "stdout",
     "output_type": "stream",
     "text": [
      "My name is Jude\n"
     ]
    }
   ],
   "source": [
    "name = \"Jude\"\n",
    "print(f\"My name is {name}\")"
   ]
  },
  {
   "cell_type": "code",
   "execution_count": 38,
   "metadata": {},
   "outputs": [
    {
     "data": {
      "text/plain": [
       "246.0"
      ]
     },
     "execution_count": 38,
     "metadata": {},
     "output_type": "execute_result"
    }
   ],
   "source": [
    "float(a) + float(a)"
   ]
  },
  {
   "cell_type": "code",
   "execution_count": 42,
   "metadata": {},
   "outputs": [],
   "source": [
    "# Greater >\n",
    "# Less <\n",
    "# Equal ==\n",
    "# Not Equal !=\n",
    "# Greater or Equal >=\n",
    "# Less than or Equal <="
   ]
  },
  {
   "cell_type": "code",
   "execution_count": 50,
   "metadata": {},
   "outputs": [
    {
     "data": {
      "text/plain": [
       "True"
      ]
     },
     "execution_count": 50,
     "metadata": {},
     "output_type": "execute_result"
    }
   ],
   "source": [
    "10 >= (20/2)"
   ]
  },
  {
   "cell_type": "markdown",
   "metadata": {},
   "source": [
    "### Control Flow"
   ]
  },
  {
   "cell_type": "code",
   "execution_count": null,
   "metadata": {},
   "outputs": [],
   "source": [
    "#if\n",
    "#elif\n",
    "#else"
   ]
  },
  {
   "cell_type": "code",
   "execution_count": 52,
   "metadata": {},
   "outputs": [],
   "source": [
    "# Write a program to determine if a number is Even or Odd"
   ]
  },
  {
   "cell_type": "code",
   "execution_count": 54,
   "metadata": {},
   "outputs": [
    {
     "name": "stdout",
     "output_type": "stream",
     "text": [
      "Enter any number: 123\n",
      "The number is odd\n"
     ]
    }
   ],
   "source": [
    "number = int(input(\"Enter any number: \"))\n",
    "if (number % 2 == 0):\n",
    "    print(\"The number is even\")\n",
    "else:\n",
    "    print(\"The number is odd\")"
   ]
  },
  {
   "cell_type": "markdown",
   "metadata": {},
   "source": [
    "* Accept a Day of the week from standard input and return if it is a weekend or a weekday\n",
    "* Accept a number from standard input and tell if it is a prime number (A prime number is a number which is divisible only by itself and 1)"
   ]
  },
  {
   "cell_type": "code",
   "execution_count": 3,
   "metadata": {},
   "outputs": [
    {
     "name": "stdout",
     "output_type": "stream",
     "text": [
      "Enter a day of the week: wednesday\n",
      "It is a weekday\n"
     ]
    }
   ],
   "source": [
    "## Question 1\n",
    "day = input(\"Enter a day of the week: \").lower()\n",
    "if day == 'sunday':\n",
    "    print(\"It is a weekend\")\n",
    "elif day == 'saturday':\n",
    "    print(\"It is a weekend\")\n",
    "else:\n",
    "    print(\"It is a weekday\")"
   ]
  },
  {
   "cell_type": "code",
   "execution_count": 12,
   "metadata": {},
   "outputs": [
    {
     "name": "stdout",
     "output_type": "stream",
     "text": [
      "Enter a number: 10\n",
      "10 is not a prime number\n"
     ]
    }
   ],
   "source": [
    "## Question 2\n",
    "number = int(input(\"Enter a number: \"))\n",
    "if number > 1:\n",
    "    for i in range(2, number):\n",
    "        if (number % i == 0):\n",
    "            print(f\"{number} is not a prime number\")\n",
    "            break\n",
    "    else:\n",
    "        print(f\"{number} is a prime number\")"
   ]
  },
  {
   "cell_type": "code",
   "execution_count": 7,
   "metadata": {},
   "outputs": [
    {
     "data": {
      "text/plain": [
       "[1, 2]"
      ]
     },
     "execution_count": 7,
     "metadata": {},
     "output_type": "execute_result"
    }
   ],
   "source": [
    "list(range(1,3))\n"
   ]
  },
  {
   "cell_type": "code",
   "execution_count": null,
   "metadata": {},
   "outputs": [],
   "source": []
  }
 ],
 "metadata": {
  "kernelspec": {
   "display_name": "Python 3",
   "language": "python",
   "name": "python3"
  },
  "language_info": {
   "codemirror_mode": {
    "name": "ipython",
    "version": 3
   },
   "file_extension": ".py",
   "mimetype": "text/x-python",
   "name": "python",
   "nbconvert_exporter": "python",
   "pygments_lexer": "ipython3",
   "version": "3.8.3"
  }
 },
 "nbformat": 4,
 "nbformat_minor": 4
}
