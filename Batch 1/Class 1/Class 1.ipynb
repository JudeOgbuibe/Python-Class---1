{
 "cells": [
  {
   "cell_type": "markdown",
   "metadata": {},
   "source": [
    "### Class Objectives\n",
    "\n",
    "* Running your first python program\n",
    "* Basic Input and Output\n",
    "* Data Types\n",
    "    - Boolean\n",
    "    - Integers & Float\n",
    "    - String (Indexing & Slicing)\n",
    "* Basic Operators\n",
    "    - Addition, Subtraction, Multiplication, Natural Division, Integer Division, Modulus\n",
    "    - f-strings\n",
    "* Comparative Operators\n",
    "    - Greater than, Less than, Equal To, Not Equal to\n",
    "    - AND, OR, NOT\n",
    "* Introduction to Control Flow - If Elif and Else Statements\n"
   ]
  },
  {
   "cell_type": "code",
   "execution_count": null,
   "metadata": {},
   "outputs": [],
   "source": []
  }
 ],
 "metadata": {
  "kernelspec": {
   "display_name": "Python 3",
   "language": "python",
   "name": "python3"
  },
  "language_info": {
   "codemirror_mode": {
    "name": "ipython",
    "version": 3
   },
   "file_extension": ".py",
   "mimetype": "text/x-python",
   "name": "python",
   "nbconvert_exporter": "python",
   "pygments_lexer": "ipython3",
   "version": "3.8.3"
  }
 },
 "nbformat": 4,
 "nbformat_minor": 4
}
