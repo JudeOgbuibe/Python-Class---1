{
 "cells": [
  {
   "cell_type": "markdown",
   "metadata": {},
   "source": [
    "* Hello Name\n",
    "* Accept 2 numbers and print out the sum\n",
    "* Accept 3 numbers and print out the sum\n",
    "* Accept an input and print out if its positive or negative\n",
    "* Accept an input print out if it is even or odd\n",
    "* Accept a day of the week and return true if its a weekend\n"
   ]
  }
 ],
 "metadata": {
  "kernelspec": {
   "display_name": "Python 3",
   "language": "python",
   "name": "python3"
  },
  "language_info": {
   "codemirror_mode": {
    "name": "ipython",
    "version": 3
   },
   "file_extension": ".py",
   "mimetype": "text/x-python",
   "name": "python",
   "nbconvert_exporter": "python",
   "pygments_lexer": "ipython3",
   "version": "3.8.3"
  }
 },
 "nbformat": 4,
 "nbformat_minor": 4
}
