{
 "cells": [
  {
   "cell_type": "markdown",
   "metadata": {},
   "source": [
    "1. Given an array return the sum of the elements\n",
    "2. Reverse a given list\n",
    "3. Find the maximum element in a list\n",
    "4. Find the minimum element in a list\n",
    "5. Determine how many elements are in a list using a loop\n",
    "6. Find the average of the first 100 numbers.\n",
    "7. Find the average of the first 100 odd number\n",
    "8. Find the sum of all odd numbers less than 1000."
   ]
  },
  {
   "cell_type": "code",
   "execution_count": null,
   "metadata": {},
   "outputs": [],
   "source": []
  }
 ],
 "metadata": {
  "kernelspec": {
   "display_name": "Python 3",
   "language": "python",
   "name": "python3"
  },
  "language_info": {
   "codemirror_mode": {
    "name": "ipython",
    "version": 3
   },
   "file_extension": ".py",
   "mimetype": "text/x-python",
   "name": "python",
   "nbconvert_exporter": "python",
   "pygments_lexer": "ipython3",
   "version": "3.8.3"
  }
 },
 "nbformat": 4,
 "nbformat_minor": 4
}
